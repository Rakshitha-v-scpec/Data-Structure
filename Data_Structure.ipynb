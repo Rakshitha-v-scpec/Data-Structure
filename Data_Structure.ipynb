{
  "nbformat": 4,
  "nbformat_minor": 0,
  "metadata": {
    "colab": {
      "provenance": []
    },
    "kernelspec": {
      "name": "python3",
      "display_name": "Python 3"
    },
    "language_info": {
      "name": "python"
    }
  },
  "cells": [
    {
      "cell_type": "markdown",
      "source": [
        "**Data Types and Structures Questions**"
      ],
      "metadata": {
        "id": "yGCaBwhDHPkY"
      }
    },
    {
      "cell_type": "markdown",
      "source": [
        "1. What are data structures, and why are they important?\n",
        "\n",
        "    Data structures are ways of organizing and storing data so that they can be accessed and modified efficiently.\n",
        "\n",
        "    Importance: Efficiency, Organization, Scalability, Problem Solving"
      ],
      "metadata": {
        "id": "sgQpyobJI6Uo"
      }
    },
    {
      "cell_type": "markdown",
      "source": [
        "2. Explain the difference between mutable and immutable data types with examples\n",
        "\n",
        "      Mutable Data Types:\n",
        "    These can be changed after they are created. You can modify, add, or delete elements without creating a new object.\n",
        "\n",
        "    ex: Lists\n",
        "\n",
        "    Immutable Data Types:\n",
        "These cannot be changed after creation. If you want to make changes, you have to create a new object.\n",
        "\n",
        " ex: Tuples\n"
      ],
      "metadata": {
        "id": "FE-HY840KXBI"
      }
    },
    {
      "cell_type": "markdown",
      "source": [
        "3. What are the main differences between lists and tuples in Python?\n",
        "\n",
        "    Lists:\n",
        "     -Immutable   \n",
        "     -defined as [ ]\n",
        "      \n",
        "      ex: A = [1, 2, 3.4, 'Rakshitha', true]\n",
        "\n",
        "    Tuples:\n",
        "    -Mutable\n",
        "    defined as ( )\n",
        "    \n",
        "    ex: A = (1, 2, 3.4, 'Rakshitha', true)"
      ],
      "metadata": {
        "id": "p_b5quBFLFgA"
      }
    },
    {
      "cell_type": "markdown",
      "source": [
        "4.  Describe how dictionaries store data\n",
        "\n",
        "    A dictionary in Python stores data as key-value pairs."
      ],
      "metadata": {
        "id": "Sy6uAR67L-UD"
      }
    },
    {
      "cell_type": "markdown",
      "source": [
        "5.  Why might you use a set instead of a list in Python?\n",
        "\n",
        "    -No duplicates allowed\n",
        "\n",
        "    -Unordered\n",
        "    \n",
        "    -Fast\n"
      ],
      "metadata": {
        "id": "Rm__3JvHMIg2"
      }
    },
    {
      "cell_type": "markdown",
      "source": [
        "6. What is a string in Python, and how is it different from a list?\n",
        "\n",
        "    a.String\n",
        "\n",
        "    Immutable\n",
        "\n",
        "    Sequence of characters (str)\n",
        "\n",
        "    Text processing, data representation\n",
        "\n",
        "    Supports string-specific methods\n",
        "\n",
        "    b.List\n",
        "\n",
        "    Mutable\n",
        "    \n",
        "    Can contain elements of any data type\n",
        "\n",
        "    Storing collections of items\n",
        "\n",
        "    Supports list-specific methods\n",
        "\n",
        "\n",
        "\n",
        "\n",
        "\n",
        "\n"
      ],
      "metadata": {
        "id": "poguxqlpNVO_"
      }
    },
    {
      "cell_type": "markdown",
      "source": [
        "7. How do tuples ensure data integrity in Python?\n",
        "\n",
        "    A tuple is an immutable sequence type. Once it's created, it cannot be changed—no adding, removing, or modifying elements. This immutability is what helps protect the data from accidental or unauthorized changes"
      ],
      "metadata": {
        "id": "9Tm9v-PSN3Vb"
      }
    },
    {
      "cell_type": "markdown",
      "source": [
        "8. What is a hash table, and how does it relate to dictionaries in Python?\n",
        "\n",
        "    A hash table is a data structure that stores key-value pairs, using a hash function to compute an index (or \"slot\") where each value is stored.\n",
        "\n",
        "    student = {\n",
        "    \"name\": \"Alice\",\n",
        "    \"age\": 22,\n",
        "    \"major\": \"CS\"\n",
        "}\n"
      ],
      "metadata": {
        "id": "6u3onC7iOJNp"
      }
    },
    {
      "cell_type": "markdown",
      "source": [
        "9. Can lists contain different data types in Python?\n",
        "\n",
        "    Yes\n",
        "    "
      ],
      "metadata": {
        "id": "Tqa6k6nkOed-"
      }
    },
    {
      "cell_type": "markdown",
      "source": [
        "10. Explain why strings are immutable in Python?\n",
        "\n",
        "    Immutable objects can be hashed (i.e., given a unique fixed ID).\n",
        "\n",
        "    Since strings are immutable, they can be safely used as keys in dictionaries and elements in sets."
      ],
      "metadata": {
        "id": "OOzXm1wmOlwA"
      }
    },
    {
      "cell_type": "markdown",
      "source": [
        "11. What advantages do dictionaries offer over lists for certain tasks?\n",
        "\n",
        "    Dictionaries let you access values using keys, and this access is very fast.\n",
        "\n",
        "    Lists require searching by index or looping through elements (O(n) time in worst case)."
      ],
      "metadata": {
        "id": "2VPJJRKnPDlR"
      }
    },
    {
      "cell_type": "markdown",
      "source": [
        "12. Describe a scenario where using a tuple would be preferable over a list?\n",
        "\n",
        "    Imagine you are building a program that deals with geographical coordinates (latitude and longitude) or points in a 2D space (x, y). These coordinates should not change after they’re defined because they represent a fixed position in space."
      ],
      "metadata": {
        "id": "LTWQkCVkPCn4"
      }
    },
    {
      "cell_type": "markdown",
      "source": [
        "13. How do sets handle duplicate values in Python?\n",
        "\n",
        "    A set in Python automatically removes duplicate values. When you try to add a duplicate element to a set, it simply doesn't add it."
      ],
      "metadata": {
        "id": "WWEhZ3qsPdwk"
      }
    },
    {
      "cell_type": "markdown",
      "source": [
        "14.  How does the “in” keyword work differently for lists and dictionaries?\n",
        "\n",
        "      When you use in with a list, it checks if the element you're looking for is present anywhere in the list, based on its value."
      ],
      "metadata": {
        "id": "i7cQ6HufPqmE"
      }
    },
    {
      "cell_type": "markdown",
      "source": [
        "15.  Can you modify the elements of a tuple? Explain why or why not?\n",
        "\n",
        "      No, you cannot modify the elements of a tuple once it has been created. Tuples in Python are immutable, which means that their contents cannot be changed after they are initialized."
      ],
      "metadata": {
        "id": "fq5odhqPPzss"
      }
    },
    {
      "cell_type": "markdown",
      "source": [
        "16.  What is a nested dictionary, and give an example of its use case?\n",
        "\n",
        "      A nested dictionary in Python is simply a dictionary where one or more of its values are themselves dictionaries. This allows you to create complex hierarchical structures where each key-value pair can represent a more detailed set of information.\n",
        "      \n",
        "      Personal information (name, age, etc.)\n",
        "\n",
        "      A set of courses they are taking, along with their grades and credits for each course."
      ],
      "metadata": {
        "id": "AjRqcyWGQAKj"
      }
    },
    {
      "cell_type": "markdown",
      "source": [
        "17. Describe the time complexity of accessing elements in a dictionary?\n",
        "\n",
        "    Hashing:\n",
        "\n",
        "    When you look up a key, Python applies a hash function to it. This function transforms the key into a unique index in memory.\n",
        "\n",
        "    The hash table lets Python directly access that index, ensuring constant time access, regardless of how large the dictionary is.\n",
        "\n",
        "    Collision Handling:\n",
        "\n",
        "    Even when multiple keys hash to the same index, Python uses techniques like open addressing and chaining to manage those collisions efficiently.\n",
        "\n",
        "    On average, this results in O(1) time complexity, as long as collisions are kept to a minimum.\n",
        "\n"
      ],
      "metadata": {
        "id": "GHcT1RQmQSCV"
      }
    },
    {
      "cell_type": "markdown",
      "source": [
        "18.  In what situations are lists preferred over dictionaries?\n",
        "\n",
        "      If the order of the elements is important, lists are the better choice. Dictionaries (prior to Python 3.7) did not guarantee order, but from Python 3.7 onwards, they do maintain insertion order, though they are still optimized for key-based lookups rather than sequence-based operations.\n",
        "\n",
        "      Lists: Preserved order of insertion and allow you to access elements by their index (e.g., my_list[0]).\n",
        "\n",
        "      Dictionaries: While they maintain insertion order (since Python 3.7), they are designed for fast key-based lookup, not for ordered sequences."
      ],
      "metadata": {
        "id": "DKKMRr0RQrzl"
      }
    },
    {
      "cell_type": "markdown",
      "source": [
        "19. Why are dictionaries considered unordered, and how does that affect data retrieval?\n",
        "\n",
        "    Dictionaries use hash tables: The hashing process doesn't guarantee any specific order for the keys.\n",
        "\n",
        "    Order is not important for lookup: The primary purpose of a dictionary is fast lookups by key, not to maintain a specific order of keys."
      ],
      "metadata": {
        "id": "YbH6t_XpQ_Qy"
      }
    },
    {
      "cell_type": "markdown",
      "source": [
        "20. Explain the difference between a list and a dictionary in terms of data retrieval\n",
        "\n",
        " List\n",
        "\n",
        "  By index (position)\n",
        "  \n",
        "  O(1) for index access, O(n) for searching by value\n",
        "  \n",
        "  Ordered (insertion order preserved)\n",
        "  \n",
        "  Sequential collection of values\n",
        "  \n",
        "  When you need to access by index\n",
        "\n",
        "\n",
        "Dictionary\n",
        "\n",
        "  By key\n",
        "\n",
        "  O(1) for key access\n",
        "\n",
        "  Unordered (until Python 3.7) or ordered from Python 3.7 onward\n",
        "\n",
        "  Collection of key-value pairs\n",
        "\n",
        "  When you need to access by key\n",
        "\n",
        "\n"
      ],
      "metadata": {
        "id": "dFyqtAmLRRhS"
      }
    },
    {
      "cell_type": "markdown",
      "source": [
        "**Practical Questions**"
      ],
      "metadata": {
        "id": "j-5GzFynSH8x"
      }
    },
    {
      "cell_type": "markdown",
      "source": [
        "1. Write a code to create a string with your name and print it\n",
        "\n",
        "      my_name = \"Rakshitha\"\n",
        "      \n",
        "      print(my_name)"
      ],
      "metadata": {
        "id": "xl5_CGd-SWwF"
      }
    },
    {
      "cell_type": "markdown",
      "source": [
        "2. Write a code to find the length of the string \"Hello World\"\n",
        "\n",
        "            # Create the string\n",
        "      my_string = \"Hello World\"\n",
        "\n",
        "      # Find the length of the string\n",
        "      length_of_string = len(my_string)\n",
        "\n",
        "      # Print the length\n",
        "      print(length_of_string)\n"
      ],
      "metadata": {
        "id": "JsqJJ3oySyG7"
      }
    },
    {
      "cell_type": "markdown",
      "source": [
        "3. Write a code to slice the first 3 characters from the string \"Python Programming\"\n",
        "\n",
        "\n",
        "    my_string = \"Python Programming\"\n",
        "\n",
        "\n",
        "    sliced_string = my_string[:3]\n",
        "\n",
        "\n",
        "    print(sliced_string)\n"
      ],
      "metadata": {
        "id": "92H7x7_oTAGF"
      }
    },
    {
      "cell_type": "markdown",
      "source": [
        "4. Write a code to convert the string \"hello\" to uppercase\n",
        "\n",
        "\n",
        "my_string = \"hello\"\n",
        "\n",
        "\n",
        "uppercase_string = my_string.upper()\n",
        "\n",
        "print(uppercase_string)\n",
        "\n",
        "\n"
      ],
      "metadata": {
        "id": "bHT-CKKwTPRo"
      }
    },
    {
      "cell_type": "markdown",
      "source": [
        "5. Write a code to create a list with numbers 1 to 5 and print it\n",
        "\n",
        "    \n",
        "my_list = [1, 2, 3, 4, 5]\n",
        "\n",
        "\n",
        "print(my_list)\n",
        "\n"
      ],
      "metadata": {
        "id": "iJF71eUJTfia"
      }
    },
    {
      "cell_type": "markdown",
      "source": [],
      "metadata": {
        "id": "Bp5EnywlTqYu"
      }
    },
    {
      "cell_type": "markdown",
      "source": [
        "6.  Write a code to replace the word \"apple\" with \"orange\" in the string \"I like apple\"\n",
        "\n",
        "# Create the string\n",
        "my_string = \"I like apple\"\n",
        "\n",
        "# Replace \"apple\" with \"orange\"\n",
        "new_string = my_string.replace(\"apple\", \"orange\")\n",
        "\n",
        "# Print the updated string\n",
        "print(new_string)\n",
        "\n",
        "\n"
      ],
      "metadata": {
        "id": "hNpfp7MqTqca"
      }
    },
    {
      "cell_type": "markdown",
      "source": [
        "7. Write a code to append the number 10 to the list [1, 2, 3, 4]\n",
        "\n",
        "    # Create the list\n",
        "my_list = [1, 2, 3, 4]\n",
        "\n",
        "# Append the number 10 to the list\n",
        "my_list.append(10)\n",
        "\n",
        "# Print the updated list\n",
        "print(my_list)\n"
      ],
      "metadata": {
        "id": "GwTbVvqrT9WN"
      }
    },
    {
      "cell_type": "markdown",
      "source": [
        "8. Write a code to remove the number 3 from the list [1, 2, 3, 4, 5]\n",
        "\n",
        "# Create the list\n",
        "my_list = [1, 2, 3, 4, 5]\n",
        "\n",
        "# Remove the number 3 from the list\n",
        "my_list.remove(3)\n",
        "\n",
        "# Print the updated list\n",
        "print(my_list)\n"
      ],
      "metadata": {
        "id": "9_6Dgcp6UO1W"
      }
    },
    {
      "cell_type": "markdown",
      "source": [
        "9. Write a code to access the second element in the list ['a', 'b', 'c', 'd']\n",
        "\n",
        "# Create the list\n",
        "my_list = ['a', 'b', 'c', 'd']\n",
        "\n",
        "# Access the second element (index 1)\n",
        "second_element = my_list[1]\n",
        "\n",
        "# Print the second element\n",
        "print(second_element)\n"
      ],
      "metadata": {
        "id": "NtCt4M2-UWq8"
      }
    },
    {
      "cell_type": "markdown",
      "source": [
        "10. Write a code to reverse the list [10, 20, 30, 40, 50].\n",
        "\n",
        "# Create the list\n",
        "my_list = [10, 20, 30, 40, 50]\n",
        "\n",
        "# Reverse the list\n",
        "my_list.reverse()\n",
        "\n",
        "# Print the reversed list\n",
        "print(my_list)\n"
      ],
      "metadata": {
        "id": "8xvWaOIFUhN6"
      }
    },
    {
      "cell_type": "markdown",
      "source": [
        "11. Write a code to create a tuple with the elements 100, 200, 300 and print it\n",
        "\n",
        "# Create the tuple\n",
        "my_tuple = (100, 200, 300)\n",
        "\n",
        "# Print the tuple\n",
        "print(my_tuple)\n"
      ],
      "metadata": {
        "id": "YAPy278RUrQm"
      }
    },
    {
      "cell_type": "markdown",
      "source": [
        "12.  Write a code to access the second-to-last element of the tuple ('red', 'green', 'blue', 'yellow')\n",
        "\n",
        "# Create the tuple\n",
        "my_tuple = ('red', 'green', 'blue', 'yellow')\n",
        "\n",
        "# Access the second-to-last element\n",
        "second_to_last_element = my_tuple[-2]\n",
        "\n",
        "# Print the second-to-last element\n",
        "print(second_to_last_element)\n"
      ],
      "metadata": {
        "id": "kta5t_Y_VPmy"
      }
    },
    {
      "cell_type": "markdown",
      "source": [
        "13. Write a code to find the minimum number in the tuple (10, 20, 5, 15).\n",
        "\n",
        "# Create the tuple\n",
        "my_tuple = (10, 20, 5, 15)\n",
        "\n",
        "# Find the minimum number in the tuple\n",
        "min_value = min(my_tuple)\n",
        "\n",
        "# Print the minimum value\n",
        "print(min_value)\n"
      ],
      "metadata": {
        "id": "yNRDa-QrVaUJ"
      }
    },
    {
      "cell_type": "markdown",
      "source": [
        "14. Write a code to find the index of the element \"cat\" in the tuple ('dog', 'cat', 'rabbit').\n",
        "\n",
        "# Create the tuple\n",
        "my_tuple = ('dog', 'cat', 'rabbit')\n",
        "\n",
        "# Find the index of the element \"cat\"\n",
        "index_of_cat = my_tuple.index('cat')\n",
        "\n",
        "# Print the index\n",
        "print(index_of_cat)\n"
      ],
      "metadata": {
        "id": "-PvSZ1aaVmre"
      }
    },
    {
      "cell_type": "markdown",
      "source": [
        "15.  Write a code to create a tuple containing three different fruits and check if \"kiwi\" is in it\n",
        "\n",
        "# Create the tuple with three different fruits\n",
        "fruits_tuple = ('apple', 'banana', 'cherry')\n",
        "\n",
        "# Check if \"kiwi\" is in the tuple\n",
        "is_kiwi_in_tuple = 'kiwi' in fruits_tuple\n",
        "\n",
        "# Print the result\n",
        "print(is_kiwi_in_tuple)\n"
      ],
      "metadata": {
        "id": "81M81Nm2Vzfh"
      }
    },
    {
      "cell_type": "markdown",
      "source": [
        "16. Write a code to create a set with the elements 'a', 'b', 'c' and print it.\n",
        "\n",
        "# Create the set\n",
        "my_set = {'a', 'b', 'c'}\n",
        "\n",
        "# Print the set\n",
        "print(my_set)\n"
      ],
      "metadata": {
        "id": "tihvzkmeV68d"
      }
    },
    {
      "cell_type": "markdown",
      "source": [
        "17.  Write a code to clear all elements from the set {1, 2, 3, 4, 5}.\n",
        "\n",
        "# Create the set\n",
        "my_set = {1, 2, 3, 4, 5}\n",
        "\n",
        "# Clear all elements from the set\n",
        "my_set.clear()\n",
        "\n",
        "# Print the cleared set\n",
        "print(my_set)\n"
      ],
      "metadata": {
        "id": "c4NLih2JWC7C"
      }
    },
    {
      "cell_type": "markdown",
      "source": [
        "18. Write a code to remove the element 4 from the set {1, 2, 3, 4}.\n",
        "\n",
        "# Create the set\n",
        "my_set = {1, 2, 3, 4}\n",
        "\n",
        "# Remove the element 4 from the set\n",
        "my_set.remove(4)\n",
        "\n",
        "# Print the updated set\n",
        "print(my_set)\n",
        "\n",
        "\n"
      ],
      "metadata": {
        "id": "ehcfvtWwWMHj"
      }
    },
    {
      "cell_type": "markdown",
      "source": [
        "19. Write a code to find the union of two sets {1, 2, 3} and {3, 4, 5}.\n",
        "\n",
        "# Create the two sets\n",
        "set1 = {1, 2, 3}\n",
        "set2 = {3, 4, 5}\n",
        "\n",
        "# Find the union of the two sets\n",
        "union_set = set1.union(set2)\n",
        "\n",
        "# Print the union of the sets\n",
        "print(union_set)\n"
      ],
      "metadata": {
        "id": "bhtH_cA9WUY6"
      }
    },
    {
      "cell_type": "markdown",
      "source": [
        "20. Write a code to find the intersection of two sets {1, 2, 3} and {2, 3, 4}\n",
        "\n",
        "# Create the two sets\n",
        "set1 = {1, 2, 3}\n",
        "set2 = {2, 3, 4}\n",
        "\n",
        "# Find the intersection of the two sets\n",
        "intersection_set = set1.intersection(set2)\n",
        "\n",
        "# Print the intersection of the sets\n",
        "print(intersection_set)\n"
      ],
      "metadata": {
        "id": "8YBHzQfKWhL6"
      }
    },
    {
      "cell_type": "markdown",
      "source": [
        "21. Write a code to create a dictionary with the keys \"name\", \"age\", and \"city\", and print it.\n",
        "\n",
        "# Create the dictionary\n",
        "my_dict = {\n",
        "    \"name\": \"John\",\n",
        "    \"age\": 25,\n",
        "    \"city\": \"New York\"\n",
        "}\n",
        "\n",
        "# Print the dictionary\n",
        "print(my_dict)\n"
      ],
      "metadata": {
        "id": "qJ-JDYqNWrVT"
      }
    },
    {
      "cell_type": "markdown",
      "source": [
        "22. Write a code to add a new key-value pair \"country\": \"USA\" to the dictionary {'name': 'John', 'age': 25}.\n",
        "\n",
        "# Create the dictionary\n",
        "my_dict = {'name': 'John', 'age': 25}\n",
        "\n",
        "# Add the new key-value pair\n",
        "my_dict['country'] = 'USA'\n",
        "\n",
        "# Print the updated dictionary\n",
        "print(my_dict)\n"
      ],
      "metadata": {
        "id": "HI7mcO03W1NT"
      }
    },
    {
      "cell_type": "markdown",
      "source": [
        "23. Write a code to access the value associated with the key \"name\" in the dictionary {'name': 'Alice', 'age': 30}.\n",
        "\n",
        "# Create the dictionary\n",
        "my_dict = {'name': 'Alice', 'age': 30}\n",
        "\n",
        "# Access the value associated with the key \"name\"\n",
        "name_value = my_dict['name']\n",
        "\n",
        "# Print the value\n",
        "print(name_value)\n"
      ],
      "metadata": {
        "id": "_A_Iv_3kW9wc"
      }
    },
    {
      "cell_type": "markdown",
      "source": [
        "24. Write a code to remove the key \"age\" from the dictionary {'name': 'Bob', 'age': 22, 'city': 'New York'}.\n",
        "\n",
        "# Create the dictionary\n",
        "my_dict = {'name': 'Bob', 'age': 22, 'city': 'New York'}\n",
        "\n",
        "# Remove the key \"age\"\n",
        "my_dict.pop('age')\n",
        "\n",
        "# Print the updated dictionary\n",
        "print(my_dict)\n"
      ],
      "metadata": {
        "id": "5PojbfuaXE6N"
      }
    },
    {
      "cell_type": "markdown",
      "source": [
        "25. Write a code to check if the key \"city\" exists in the dictionary {'name': 'Alice', 'city': 'Paris'}.\n",
        "\n",
        "# Create the dictionary\n",
        "my_dict = {'name': 'Alice', 'city': 'Paris'}\n",
        "\n",
        "# Check if the key \"city\" exists\n",
        "if 'city' in my_dict:\n",
        "    print(\"Key 'city' exists in the dictionary.\")\n",
        "else:\n",
        "    print(\"Key 'city' does not exist in the dictionary.\")\n"
      ],
      "metadata": {
        "id": "xLBp0TjwXM0g"
      }
    },
    {
      "cell_type": "markdown",
      "source": [
        "26. Write a code to create a list, a tuple, and a dictionary, and print them all.\n",
        "\n",
        "# Create a list\n",
        "my_list = [1, 2, 3, 4, 5]\n",
        "\n",
        "# Create a tuple\n",
        "my_tuple = ('apple', 'banana', 'cherry')\n",
        "\n",
        "# Create a dictionary\n",
        "my_dict = {'name': 'Alice', 'age': 30, 'city': 'Paris'}\n",
        "\n",
        "# Print all of them\n",
        "print(\"List:\", my_list)\n",
        "print(\"Tuple:\", my_tuple)\n",
        "print(\"Dictionary:\", my_dict)\n"
      ],
      "metadata": {
        "id": "MkEhog8tXUS3"
      }
    },
    {
      "cell_type": "markdown",
      "source": [
        "27. Write a code to create a list of 5 random numbers between 1 and 100, sort it in ascending order, and print the\n",
        "result.(replaced)\n",
        "\n",
        "import random\n",
        "\n",
        "# Create a list of 5 random numbers between 1 and 100\n",
        "random_numbers = random.sample(range(1, 101), 5)\n",
        "\n",
        "# Sort the list in ascending order\n",
        "random_numbers.sort()\n",
        "\n",
        "# Print the sorted list\n",
        "print(\"Sorted random numbers:\", random_numbers)\n"
      ],
      "metadata": {
        "id": "QHnn6d-2XhtN"
      }
    },
    {
      "cell_type": "markdown",
      "source": [
        "28.  Write a code to create a list with strings and print the element at the third index.\n",
        "\n",
        "# Create a list with strings\n",
        "my_list = ['apple', 'banana', 'cherry', 'date', 'elderberry']\n",
        "\n",
        "# Print the element at the third index\n",
        "print(\"Element at index 3:\", my_list[3])\n"
      ],
      "metadata": {
        "id": "8aJ8kIlBXqE1"
      }
    },
    {
      "cell_type": "markdown",
      "source": [
        "29.  Write a code to combine two dictionaries into one and print the result\n",
        "\n",
        "# Create two dictionaries\n",
        "dict1 = {'name': 'Alice', 'age': 30}\n",
        "dict2 = {'city': 'Paris', 'country': 'France'}\n",
        "\n",
        "# Combine the dictionaries\n",
        "combined_dict = {**dict1, **dict2}\n",
        "\n",
        "# Print the result\n",
        "print(\"Combined dictionary:\", combined_dict)\n"
      ],
      "metadata": {
        "id": "HZDyKEc0XxfQ"
      }
    },
    {
      "cell_type": "markdown",
      "source": [
        "30. Write a code to convert a list of strings into a set.\n",
        "\n",
        "# Create a list of strings\n",
        "my_list = ['apple', 'banana', 'cherry', 'apple', 'banana']\n",
        "\n",
        "# Convert the list into a set\n",
        "my_set = set(my_list)\n",
        "\n",
        "# Print the set\n",
        "print(\"Set:\", my_set)\n"
      ],
      "metadata": {
        "id": "up41Ai8cX7z3"
      }
    }
  ]
}